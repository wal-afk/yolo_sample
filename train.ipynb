{
  "cells": [
    {
      "cell_type": "code",
      "execution_count": null,
      "metadata": {},
      "outputs": [],
      "source": [
        "# 最初に\n",
        "# images.zipとlabels_*.zipの2つのファイルをcolab上の「ファイル」(/content直下)にアップロードすること\n",
        "# アップロードできてからこのセルを実行すること\n",
        "\n",
        "%cd /content\n",
        "import os\n",
        "from zipfile import ZipFile\n",
        "from glob import glob\n",
        "import shutil\n",
        "\n",
        "def unzip(dir_path):\n",
        "    shutil.rmtree(dir_path,ignore_errors=True)\n",
        "    if not os.path.exists(\"images.zip\"):\n",
        "        print(\"images.zipをアップロードしてください\")\n",
        "        return False\n",
        "    if len(glob(\"labels_*.zip\"))!=1:\n",
        "        print(\"labels_*.zipを1つだけアップロードしてください\")\n",
        "        return False\n",
        "    with ZipFile('images.zip') as zip:\n",
        "        zip.extractall(dir_path)\n",
        "    with ZipFile(glob(\"labels_*.zip\")[0]) as zip:\n",
        "        zip.extractall(f'{dir_path}/labels')\n",
        "    return True\n",
        "\n",
        "if unzip('dataset'):\n",
        "    print(\"成功\")"
      ]
    },
    {
      "cell_type": "code",
      "execution_count": null,
      "metadata": {
        "id": "9oztS4R0Dqcj"
      },
      "outputs": [],
      "source": [
        "# 1. サンプルコードをダウンロード\n",
        "%cd /content\n",
        "!git clone https://github.com/wal-afk/yolo_sample\n",
        "%cd yolo_sample\n",
        "!git pull\n",
        "%cd /content"
      ]
    },
    {
      "cell_type": "code",
      "execution_count": null,
      "metadata": {
        "id": "QIlljN9HEDxf"
      },
      "outputs": [],
      "source": [
        "# 2. データセット中のラベルの集計を表示\n",
        "from git.yolo_sample.util.dataset_util import DatasetChecker\n",
        "\n",
        "DatasetChecker(\"dataset\").print_labels_count()\n",
        "DatasetChecker(\"dataset\").relocate_label_files()"
      ]
    },
    {
      "cell_type": "code",
      "execution_count": null,
      "metadata": {
        "id": "T8HNEuZ5yeDU"
      },
      "outputs": [],
      "source": [
        "# 3. 学習用のライブラリをインストール\n",
        "%pip list | grep torch\n",
        "\n",
        "%pip install -q 'ultralytics<=8.3.162' 'onnxslim==0.1.57' 'onnx>=1.12.0,<1.18.0' 'onnxruntime-gpu'\n",
        "\n",
        "!yolo settings tensorboard=True > /dev/null\n",
        "%load_ext tensorboard\n",
        "%pip list | grep ultralytics"
      ]
    },
    {
      "cell_type": "code",
      "execution_count": null,
      "metadata": {
        "id": "tJfY_B8kyf_p"
      },
      "outputs": [],
      "source": [
        "# 4. 学習の実行\n",
        "import ultralytics\n",
        "from ultralytics import YOLO\n",
        "\n",
        "ultralytics.checks()\n",
        "model = YOLO('yolo11n.pt') # load a pretrained model\n",
        "train_result = model.train(data='dataset/custom.yaml', exist_ok=True, epochs=60)"
      ]
    },
    {
      "cell_type": "code",
      "execution_count": null,
      "metadata": {},
      "outputs": [],
      "source": [
        "# 5. 学習結果の評価\n",
        "val_result=model.val(data='dataset/custom.yaml')"
      ]
    },
    {
      "cell_type": "code",
      "execution_count": null,
      "metadata": {
        "id": "d-GjxOA4Skem"
      },
      "outputs": [],
      "source": [
        "# 6. 学習したモデルを使用した物体認識\n",
        "from glob import glob\n",
        "import logging\n",
        "\n",
        "from yolo_sample.util.show_util import show_all_images\n",
        "\n",
        "results = model.predict(glob(\"dataset/images/val/*.jpg\"))\n",
        "\n",
        "show_all_images([r.plot()[...,::-1] for r in results])"
      ]
    },
    {
      "cell_type": "code",
      "execution_count": null,
      "metadata": {},
      "outputs": [],
      "source": [
        "# 7. 学習済みモデルの出力\n",
        "path_onnx = model.export(format=\"onnx\")\n",
        "!ls runs/detect/train/weights -l"
      ]
    },
    {
      "cell_type": "code",
      "execution_count": null,
      "metadata": {},
      "outputs": [],
      "source": [
        "# 8. 学習済みモデルのダウンロード\n",
        "from google.colab import files\n",
        "\n",
        "files.download(path_onnx)"
      ]
    },
    {
      "cell_type": "code",
      "execution_count": null,
      "metadata": {},
      "outputs": [],
      "source": [
        "# 参考：　学習済みモデル原本のダウンロード\n",
        "\n",
        "files.download(\"runs/detect/train/weights/best.pt\")"
      ]
    },
    {
      "cell_type": "code",
      "execution_count": null,
      "metadata": {
        "id": "q85Jh_QOy1iD"
      },
      "outputs": [],
      "source": [
        "# 参考：学習時の評価で使用された画像の表示\n",
        "from yolo_sample.util.show_util import show_2_images_path\n",
        "for path in glob(\"runs/detect/train/val_batch*_labels.jpg\"):\n",
        "  show_2_images_path(path, path[:-len(\"labels.jpg\")]+\"pred.jpg\")"
      ]
    },
    {
      "cell_type": "code",
      "execution_count": null,
      "metadata": {
        "id": "SU2Z0JnHHzVc"
      },
      "outputs": [],
      "source": [
        "# 参考：学習結果の確認ツールの起動\n",
        "%tensorboard --logdir runs"
      ]
    }
  ],
  "metadata": {
    "accelerator": "GPU",
    "colab": {
      "gpuType": "T4",
      "provenance": []
    },
    "kernelspec": {
      "display_name": "Python 3",
      "name": "python3"
    },
    "language_info": {
      "codemirror_mode": {
        "name": "ipython",
        "version": 3
      },
      "file_extension": ".py",
      "mimetype": "text/x-python",
      "name": "python",
      "nbconvert_exporter": "python",
      "pygments_lexer": "ipython3",
      "version": "3.12.10"
    }
  },
  "nbformat": 4,
  "nbformat_minor": 0
}
