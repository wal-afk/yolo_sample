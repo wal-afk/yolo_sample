{
  "cells": [
    {
      "cell_type": "code",
      "execution_count": null,
      "metadata": {
        "id": "9oztS4R0Dqcj"
      },
      "outputs": [],
      "source": [
        "# 1. サンプルデータセットをダウンロード\n",
        "%cd /content\n",
        "!git clone https://github.com/wal-afk/yolo_sample\n",
        "%cd yolo_sample\n",
        "!git pull\n",
        "%cd /content"
      ]
    },
    {
      "cell_type": "code",
      "execution_count": null,
      "metadata": {
        "id": "QIlljN9HEDxf"
      },
      "outputs": [],
      "source": [
        "# 2. データセット中のラベルの集計を表示\n",
        "from .util.dataset_util import DatasetChecker\n",
        "\n",
        "DatasetChecker(f\"yolo_sample/dataset/sample1\").print_labels_count()"
      ]
    },
    {
      "cell_type": "code",
      "execution_count": null,
      "metadata": {
        "id": "T8HNEuZ5yeDU"
      },
      "outputs": [],
      "source": [
        "# 3. ライブラリをインストール\n",
        "%pip install -q ultralytics"
      ]
    },
    {
      "cell_type": "code",
      "execution_count": null,
      "metadata": {},
      "outputs": [],
      "source": [
        "# 4. 学習済みモデルの読み込みと評価\n",
        "from ultralytics import YOLO\n",
        "from .util.show_util import show_all_images\n",
        "\n",
        "model_best = YOLO('yolo_sample/trained/best.onnx',task=\"detect\") # load the trained model\n",
        "val_result=model_best.val(data='yolo_sample/dataset/sample1/custom.yaml')"
      ]
    },
    {
      "cell_type": "code",
      "execution_count": null,
      "metadata": {},
      "outputs": [],
      "source": [
        "# 5. 学習したモデルを使用した物体認識\n",
        "from glob import glob\n",
        "\n",
        "from yolo_sample.util.show_util import show_all_images\n",
        "\n",
        "results_best = [model_best.predict(path) for path in glob(\"yolo_sample/dataset/sample1/images/val/*.jpg\")]\n",
        "\n",
        "show_all_images([r[0].plot()[...,::-1] for r in results_best])"
      ]
    }
  ],
  "metadata": {
    "accelerator": "GPU",
    "colab": {
      "gpuType": "T4",
      "provenance": []
    },
    "kernelspec": {
      "display_name": "Python 3",
      "name": "python3"
    },
    "language_info": {
      "codemirror_mode": {
        "name": "ipython",
        "version": 3
      },
      "file_extension": ".py",
      "mimetype": "text/x-python",
      "name": "python",
      "nbconvert_exporter": "python",
      "pygments_lexer": "ipython3",
      "version": "3.12.10"
    }
  },
  "nbformat": 4,
  "nbformat_minor": 0
}
